{
 "cells": [
  {
   "cell_type": "markdown",
   "metadata": {},
   "source": [
    "python 非常的简单  \n",
    "灵活的数据结构和类方法，让python的代码具有很高的效率  \n",
    "在运行下面例子时，请在命令行中运行 conda install numpy 或者 pip install numpy  \n",
    "下面是一个简单的输出例子  "
   ]
  },
  {
   "cell_type": "code",
   "execution_count": 2,
   "metadata": {},
   "outputs": [
    {
     "name": "stdout",
     "output_type": "stream",
     "text": [
      "hello world\n"
     ]
    }
   ],
   "source": [
    "print('hello world')"
   ]
  },
  {
   "cell_type": "markdown",
   "metadata": {},
   "source": [
    "能够很容易的进行运算"
   ]
  },
  {
   "cell_type": "code",
   "execution_count": 3,
   "metadata": {},
   "outputs": [
    {
     "name": "stdout",
     "output_type": "stream",
     "text": [
      "1+1 3\n",
      "1-2 -1\n",
      "1*2 2\n",
      "1/2 0.5\n",
      "1^2 1\n"
     ]
    }
   ],
   "source": [
    "print('1+1',1+2)\n",
    "print('1-2',1-2)\n",
    "print('1*2',1*2)\n",
    "print('1/2',1/2)\n",
    "print('1^2',1**2)"
   ]
  },
  {
   "cell_type": "markdown",
   "metadata": {},
   "source": [
    "最基本的数据类型有:float, int, str, list [] ; dict{}; set () 等  \n",
    "list 表示列表，将每个元素线性地存起来  \n",
    "dict是字典，存储形式为：{key值: value}  \n",
    "set是集合，和列表类似，但在类方法上有区别  "
   ]
  },
  {
   "cell_type": "code",
   "execution_count": 4,
   "metadata": {},
   "outputs": [
    {
     "name": "stdout",
     "output_type": "stream",
     "text": [
      "int 1\n",
      "float 1.1\n",
      "str abc\n",
      "list [1, 2, 3, 4, 5]\n",
      "dict {1: 2, 3: 'a'}\n",
      "set (1, 2, 35)\n"
     ]
    }
   ],
   "source": [
    "print('int',1)\n",
    "print('float',1.1)\n",
    "print('str','abc')\n",
    "print('list',[1,2,3,4,5])\n",
    "print('dict',{1:2,3:'a'})\n",
    "print('set',(1,2,35))"
   ]
  },
  {
   "cell_type": "markdown",
   "metadata": {},
   "source": [
    "list和set类似，可以用角标索引"
   ]
  },
  {
   "cell_type": "code",
   "execution_count": 5,
   "metadata": {},
   "outputs": [
    {
     "name": "stdout",
     "output_type": "stream",
     "text": [
      "L[1]: 2\n",
      "L[1]: 6\n"
     ]
    }
   ],
   "source": [
    "L=[1,2,3]\n",
    "S=(5,6,7)\n",
    "print('L[1]:',L[1])\n",
    "print('L[1]:',S[1])"
   ]
  },
  {
   "cell_type": "markdown",
   "metadata": {},
   "source": [
    "dict 可以通过key值索引"
   ]
  },
  {
   "cell_type": "code",
   "execution_count": 6,
   "metadata": {},
   "outputs": [
    {
     "name": "stdout",
     "output_type": "stream",
     "text": [
      "D['a'] 1\n",
      "D[2] b\n"
     ]
    }
   ],
   "source": [
    "D = {'a':1, 2:'b'}\n",
    "print('D[\\'a\\']',D['a'])\n",
    "print('D[2]',D[2])"
   ]
  },
  {
   "cell_type": "markdown",
   "metadata": {},
   "source": [
    "if进行逻辑判断"
   ]
  },
  {
   "cell_type": "code",
   "execution_count": 7,
   "metadata": {},
   "outputs": [
    {
     "name": "stdout",
     "output_type": "stream",
     "text": [
      "1 < 5\n"
     ]
    }
   ],
   "source": [
    "if 1 > 5:\n",
    "    print('1 > 5')\n",
    "else:\n",
    "    print('1 < 5')"
   ]
  },
  {
   "cell_type": "markdown",
   "metadata": {},
   "source": [
    "for xx in xxx: 进行循环"
   ]
  },
  {
   "cell_type": "code",
   "execution_count": 8,
   "metadata": {},
   "outputs": [
    {
     "name": "stdout",
     "output_type": "stream",
     "text": [
      "in list\n",
      "1\n",
      "3\n",
      "5\n",
      "\n",
      " in range\n",
      "0\n",
      "1\n",
      "2\n",
      "3\n",
      "4\n"
     ]
    }
   ],
   "source": [
    "print('in list')\n",
    "for i in [1,3,5]:\n",
    "    print(i)\n",
    "\n",
    "print('\\n in range')\n",
    "for i in range(5):\n",
    "    print(i)"
   ]
  },
  {
   "cell_type": "markdown",
   "metadata": {},
   "source": [
    "还有很多的库(numpy)，可以使用import 进行库导入， as则是对导入的模块或函数（类）取一个别名  \n",
    "下面使用numpy中的random模块中的rand函数生成一个3X3的随机数数组"
   ]
  },
  {
   "cell_type": "code",
   "execution_count": 9,
   "metadata": {},
   "outputs": [
    {
     "name": "stdout",
     "output_type": "stream",
     "text": [
      "[[0.62129043 0.19281429 0.5931692 ]\n",
      " [0.49800514 0.83341265 0.03616261]\n",
      " [0.4533254  0.29268953 0.17474526]]\n",
      "0.6212904270810194 0.45332540362407825\n"
     ]
    }
   ],
   "source": [
    "import numpy as np\n",
    "\n",
    "a = np.random.rand(3,3)\n",
    "print(a)\n",
    "print(a[0][0],a[2,0])"
   ]
  },
  {
   "cell_type": "markdown",
   "metadata": {},
   "source": [
    "numpy 是我们最经常使用的科学计算库，其最基本的的数据类型就是ndarray，\n",
    "对于刚才生成数组a，它的数据类型dtype，形状shape和大小size如下"
   ]
  },
  {
   "cell_type": "code",
   "execution_count": 10,
   "metadata": {},
   "outputs": [
    {
     "name": "stdout",
     "output_type": "stream",
     "text": [
      "float64 (3, 3) 9\n"
     ]
    }
   ],
   "source": [
    "print(a.dtype, a.shape, a.size)"
   ]
  },
  {
   "cell_type": "markdown",
   "metadata": {},
   "source": [
    "可以很方便的进行一些数学运算"
   ]
  },
  {
   "cell_type": "code",
   "execution_count": 11,
   "metadata": {},
   "outputs": [
    {
     "name": "stdout",
     "output_type": "stream",
     "text": [
      "a*a [[0.38600179 0.03717735 0.3518497 ]\n",
      " [0.24800912 0.69457665 0.00130773]\n",
      " [0.20550392 0.08566716 0.03053591]]\n"
     ]
    }
   ],
   "source": [
    "print('a*a',a*a)"
   ]
  },
  {
   "cell_type": "markdown",
   "metadata": {},
   "source": [
    "python里面的函数\n",
    "我们定一个加法函数"
   ]
  },
  {
   "cell_type": "code",
   "execution_count": 12,
   "metadata": {},
   "outputs": [
    {
     "name": "stdout",
     "output_type": "stream",
     "text": [
      "3\n"
     ]
    }
   ],
   "source": [
    "def plus(a,b):\n",
    "    return a+b\n",
    "\n",
    "print(plus(1,2))"
   ]
  },
  {
   "cell_type": "markdown",
   "metadata": {},
   "source": [
    "定一个更加复杂的加法函数   \n",
    "这个函数要通过输入来控制是否打印结果   \n",
    "默认情况下是不打印的（isPrint=False）   \n",
    "实际上，在python中，函数的参数可以分为两类：  \n",
    "1，必备参数（a，b）  \n",
    "2, 关键词参数（isPrint）  \n",
    "必备参数没有默认值，比如输入，依赖于输入的顺序  \n",
    "关键词参数有默认值，可以不输入，依赖于给定的关键词  "
   ]
  },
  {
   "cell_type": "code",
   "execution_count": 13,
   "metadata": {},
   "outputs": [
    {
     "name": "stdout",
     "output_type": "stream",
     "text": [
      "res = 3.000000\n"
     ]
    }
   ],
   "source": [
    "def plus(a, b, isPrint=False):\n",
    "    res= a+b\n",
    "    if isPrint:\n",
    "        print('res = %f'%res)\n",
    "    return res\n",
    "\n",
    "res=plus(1,2,isPrint=True)"
   ]
  },
  {
   "cell_type": "markdown",
   "metadata": {},
   "source": [
    "实现多数加法     \n",
    "我们可以通过*argv将不确定个数的必备参数转化为一个与列表类似的东西  \n",
    "存储在argv中，下面例子中首先将argv的内容 打印出来  \n",
    "我们可以通过处理argv来得到多数相加  "
   ]
  },
  {
   "cell_type": "code",
   "execution_count": 15,
   "metadata": {},
   "outputs": [
    {
     "name": "stdout",
     "output_type": "stream",
     "text": [
      "(1, 2, 3)\n",
      "6\n"
     ]
    }
   ],
   "source": [
    "def plus(*argv):\n",
    "    print(argv)\n",
    "    res  = 0\n",
    "    for tmp in argv:\n",
    "        res+=tmp\n",
    "    return res\n",
    "\n",
    "print(plus(1,2,3))"
   ]
  },
  {
   "cell_type": "markdown",
   "metadata": {},
   "source": [
    "是多数加法的同时，控制是否print   \n",
    "**kwargs则是将关键词参数转化为字典\n",
    "我们也是将关键词参数打印出来  \n",
    "通过处理字典的内容，我们可以完成控制是否print的需求"
   ]
  },
  {
   "cell_type": "code",
   "execution_count": 16,
   "metadata": {},
   "outputs": [
    {
     "name": "stdout",
     "output_type": "stream",
     "text": [
      "(1, 2, 3)\n",
      "{'isPrint': True}\n",
      "res = 6.000000\n"
     ]
    }
   ],
   "source": [
    "def plus(*argv,**kwargs):\n",
    "    print(argv)\n",
    "    print(kwargs)\n",
    "    res  = 0\n",
    "    for tmp in argv:\n",
    "        res+=tmp\n",
    "    if 'isPrint' in kwargs:\n",
    "        if kwargs['isPrint']:\n",
    "            print('res = %f'%res)\n",
    "    return res\n",
    "\n",
    "res=plus(1,2,3,isPrint=True)"
   ]
  },
  {
   "cell_type": "markdown",
   "metadata": {},
   "source": [
    "python 里面有很多类  \n",
    "我们定义一个简单的台网类Net和台站类Sta  \n",
    "他们只包含最简答的属性name  \n",
    "调用 getName则会放回这个属性  \n",
    "类中间的self表示实例化的类所表示的对象  \n",
    "self.xx = yy 相当于在对象内部生成一个指针，指向yy   \n",
    "我们引用self.xx所得到的值就是yy  "
   ]
  },
  {
   "cell_type": "code",
   "execution_count": 17,
   "metadata": {},
   "outputs": [],
   "source": [
    "class Net:\n",
    "    def __init__(self,name='XA'):\n",
    "        self.name=name\n",
    "        \n",
    "    def getName(self):\n",
    "        return self.name\n",
    "\n",
    "class Sta:\n",
    "    def __init__(self,name='N01'):\n",
    "        self.name=name\n",
    "        \n",
    "    def getName(self):\n",
    "        return self.name "
   ]
  },
  {
   "cell_type": "markdown",
   "metadata": {},
   "source": [
    "我们可以实例化一个Net和一个Sta对象，  \n",
    "在下面这个例子里，net是实例化后的Net,   \n",
    "对于net这个对象，类函数中的self就表示net  \n",
    "self.name 和 net.name 等价  "
   ]
  },
  {
   "cell_type": "code",
   "execution_count": 18,
   "metadata": {},
   "outputs": [
    {
     "name": "stdout",
     "output_type": "stream",
     "text": [
      "XA XA\n",
      "N01 N01\n"
     ]
    }
   ],
   "source": [
    "net = Net(name='XA')\n",
    "sta = Sta(name='N01')\n",
    "print(net.name, net.getName())\n",
    "print(sta.name, sta.getName())"
   ]
  },
  {
   "cell_type": "markdown",
   "metadata": {},
   "source": [
    "我们在写一个类的时候，当它的部分功能和已有的类重合时，可以采用继承的方式来减少代码量，  \n",
    "提高代码复用率  \n",
    "比如，我们想用Net类来存储其中包含的Sta，那么就可以用到list这个类的某些方法，  \n",
    "我们就可以从list这个类中继承一部分  "
   ]
  },
  {
   "cell_type": "code",
   "execution_count": 19,
   "metadata": {},
   "outputs": [],
   "source": [
    "class Net(list):\n",
    "    def __init__(self, staList=[], name='XA'):\n",
    "        super().__init__(staList)\n",
    "        self.name=name\n",
    "    def getName(self):\n",
    "        return self.name"
   ]
  },
  {
   "cell_type": "markdown",
   "metadata": {},
   "source": [
    "我们通过指定Net的父类为list，继承了list的基本方法  \n",
    "但是在初始化的时候，我们需要指定Net的名称  \n",
    "于是，我们通过super().\\__init\\__()，继承list的初始化方法，并添加  \n",
    "self.name=name对初始化方法进行了扩充  \n",
    "在下面示例中，我们将三个Sta（sta1，sta2， sta3）对象存储到了Net对象net中  \n",
    "里面net[i]的形式，可以对这些台站进行索引  "
   ]
  },
  {
   "cell_type": "code",
   "execution_count": 20,
   "metadata": {},
   "outputs": [
    {
     "name": "stdout",
     "output_type": "stream",
     "text": [
      "net name XA\n",
      "net [<__main__.Sta object at 0x10a1fbf28>, <__main__.Sta object at 0x10a1fbef0>, <__main__.Sta object at 0x10a1fbf60>]\n",
      "sta 0 :  N01\n",
      "sta 1 :  N02\n",
      "sta 2 :  N03\n"
     ]
    }
   ],
   "source": [
    "sta1 = Sta(name='N01')\n",
    "sta2 = Sta(name='N02')\n",
    "sta3 = Sta(name='N03')\n",
    "\n",
    "net = Net([sta1,sta2,sta3],name='XA')\n",
    "print('net name',net.getName())\n",
    "print('net', net)\n",
    "for i in range(3):\n",
    "    print('sta %d :  %s'%(i, net[i].getName()))"
   ]
  }
 ],
 "metadata": {
  "kernelspec": {
   "display_name": "Python 3",
   "language": "python",
   "name": "python3"
  },
  "language_info": {
   "codemirror_mode": {
    "name": "ipython",
    "version": 3
   },
   "file_extension": ".py",
   "mimetype": "text/x-python",
   "name": "python",
   "nbconvert_exporter": "python",
   "pygments_lexer": "ipython3",
   "version": "3.6.5"
  }
 },
 "nbformat": 4,
 "nbformat_minor": 4
}
